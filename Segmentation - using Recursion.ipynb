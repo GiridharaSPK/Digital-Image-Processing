{
 "cells": [
  {
   "cell_type": "code",
   "execution_count": 1,
   "metadata": {},
   "outputs": [],
   "source": [
    "import numpy as np\n",
    "from skimage import io"
   ]
  },
  {
   "cell_type": "code",
   "execution_count": 2,
   "metadata": {},
   "outputs": [],
   "source": [
    "im = io.imread(\"TestIMage.png\")\n",
    "# io.imshow(im)"
   ]
  },
  {
   "cell_type": "code",
   "execution_count": 3,
   "metadata": {},
   "outputs": [],
   "source": [
    "import sys\n",
    "sys.setrecursionlimit(20000)"
   ]
  },
  {
   "cell_type": "code",
   "execution_count": 4,
   "metadata": {},
   "outputs": [],
   "source": [
    "def rgb2gray(img):\n",
    "    return np.divide(np.dot(img[...,:3],[0.2125,0.7154,0.0721]),255)"
   ]
  },
  {
   "cell_type": "code",
   "execution_count": 5,
   "metadata": {},
   "outputs": [],
   "source": [
    "temp = np.zeros((360,360));"
   ]
  },
  {
   "cell_type": "code",
   "execution_count": 6,
   "metadata": {},
   "outputs": [
    {
     "data": {
      "text/plain": [
       "0.0"
      ]
     },
     "execution_count": 6,
     "metadata": {},
     "output_type": "execute_result"
    }
   ],
   "source": [
    "np.max(temp)"
   ]
  },
  {
   "cell_type": "code",
   "execution_count": 7,
   "metadata": {},
   "outputs": [],
   "source": [
    "def ConvertBinary(img):\n",
    "    for i in range(len(img)):\n",
    "        for j in range(len(img[0])):\n",
    "            x = img[i][j]\n",
    "            if x[0]==255:\n",
    "                temp[i][j]=0;\n",
    "            else:\n",
    "                temp[i][j]=1;\n",
    "    return temp;"
   ]
  },
  {
   "cell_type": "code",
   "execution_count": 8,
   "metadata": {},
   "outputs": [],
   "source": [
    "def RemoveOnes(i,j):\n",
    "    if(temp[i-1][j-1] == 1):\n",
    "        temp[i-1][j-1]=0;\n",
    "        RemoveOnes(i-1,j-1);\n",
    "    if(temp[i+1][j+1] == 1):\n",
    "        temp[i+1][j+1]=0;\n",
    "        RemoveOnes(i+1,j+1);\n",
    "    if(temp[i][j-1] == 1):\n",
    "        temp[i][j-1]=0;\n",
    "        RemoveOnes(i,j-1);\n",
    "    if(temp[i-1][j] == 1):\n",
    "        temp[i-1][j]=0;\n",
    "        RemoveOnes(i-1,j);\n",
    "    if(temp[i][j+1] == 1):\n",
    "        temp[i][j+1]=0;\n",
    "        RemoveOnes(i,j+1);\n",
    "    if(temp[i+1][j] == 1):\n",
    "        temp[i+1][j]=0;\n",
    "        RemoveOnes(i+1,j);\n",
    "    if(temp[i+1][j-1] == 1):\n",
    "        temp[i+1][j-1]=0;\n",
    "        RemoveOnes(i+1,j-1);\n",
    "    if(temp[i-1][j+1] == 1):\n",
    "        temp[i-1][j+1]=0;\n",
    "        RemoveOnes(i-1,j+1);"
   ]
  },
  {
   "cell_type": "code",
   "execution_count": 9,
   "metadata": {},
   "outputs": [],
   "source": [
    "def CountOnes(temp):\n",
    "    count= 0\n",
    "    for i in range(len(temp)):\n",
    "        for j in range(len(temp[0])):\n",
    "            if(temp[i][j]==1):\n",
    "                count = count+1;\n",
    "                temp[i][j]=0\n",
    "                RemoveOnes(i,j)\n",
    "    return count;"
   ]
  },
  {
   "cell_type": "code",
   "execution_count": 10,
   "metadata": {},
   "outputs": [],
   "source": [
    "temp = ConvertBinary(im)\n",
    "     "
   ]
  },
  {
   "cell_type": "code",
   "execution_count": 11,
   "metadata": {},
   "outputs": [
    {
     "data": {
      "text/plain": [
       "1.0"
      ]
     },
     "execution_count": 11,
     "metadata": {},
     "output_type": "execute_result"
    }
   ],
   "source": [
    "np.max(temp)"
   ]
  },
  {
   "cell_type": "code",
   "execution_count": 12,
   "metadata": {},
   "outputs": [
    {
     "name": "stdout",
     "output_type": "stream",
     "text": [
      "Number of Components: \n",
      "4\n"
     ]
    }
   ],
   "source": [
    "result = CountOnes(temp)\n",
    "\n",
    "print(\"Number of Components: \")\n",
    "print(result)"
   ]
  },
  {
   "cell_type": "code",
   "execution_count": 13,
   "metadata": {},
   "outputs": [
    {
     "data": {
      "text/plain": [
       "0.0"
      ]
     },
     "execution_count": 13,
     "metadata": {},
     "output_type": "execute_result"
    }
   ],
   "source": [
    "np.max(temp)"
   ]
  },
  {
   "cell_type": "code",
   "execution_count": null,
   "metadata": {},
   "outputs": [],
   "source": []
  }
 ],
 "metadata": {
  "kernelspec": {
   "display_name": "Python 3",
   "language": "python",
   "name": "python3"
  },
  "language_info": {
   "codemirror_mode": {
    "name": "ipython",
    "version": 3
   },
   "file_extension": ".py",
   "mimetype": "text/x-python",
   "name": "python",
   "nbconvert_exporter": "python",
   "pygments_lexer": "ipython3",
   "version": "3.6.5"
  }
 },
 "nbformat": 4,
 "nbformat_minor": 2
}
